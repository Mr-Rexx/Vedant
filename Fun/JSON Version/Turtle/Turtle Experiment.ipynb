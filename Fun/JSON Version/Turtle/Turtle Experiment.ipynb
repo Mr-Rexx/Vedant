{
 "cells": [
  {
   "cell_type": "code",
   "execution_count": null,
   "metadata": {},
   "outputs": [],
   "source": [
    "import turtle\n",
    "import colorsys\n",
    "t=turtle.Turtle()\n",
    "turtle.bgbolor('black')\n",
    "turtle.tracer(14)\n",
    "t.pensize(4)\n",
    "\n",
    "def F():\n",
    "    t.up()\n",
    "    t.goto(9,0)\n",
    "    t.down()\n",
    "    h=0\n",
    "    n=78\n",
    "    for i in range(460):\n",
    "        c=colorsys.hsv_to_\n",
    "        h+=1/n\n",
    "        t.color(c)\n",
    "        t.fillcolor(\"black\n",
    "        t.begin_fill()\n",
    "        t.rt(56)\n",
    "        t.fd(i)\n",
    "        t.circle(-24)\n",
    "        t.end_fill()\n",
    "        t.circle(23,5.1)\n",
    "\n",
    "F()\n",
    "turtle.done        "
   ]
  }
 ],
 "metadata": {
  "kernelspec": {
   "display_name": "Python 3.10.8 64-bit (microsoft store)",
   "language": "python",
   "name": "python3"
  },
  "language_info": {
   "name": "python",
   "version": "3.10.8"
  },
  "orig_nbformat": 4,
  "vscode": {
   "interpreter": {
    "hash": "991d345c051f04e2d9a98455c23cadf5ad410cb55ba35aa6a5cfaf14f113a7ee"
   }
  }
 },
 "nbformat": 4,
 "nbformat_minor": 2
}
