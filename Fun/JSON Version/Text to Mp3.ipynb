{
 "cells": [
  {
   "cell_type": "code",
   "execution_count": 5,
   "metadata": {},
   "outputs": [],
   "source": [
    "from gtts import gTTS   \n",
    "\n",
    "import os \n",
    " \n",
    "mytext = str(\"Insert Text\")#+text+str(\". Welcome to python 3. We highly appreciate you to use spyder 3 for your programming\")\n",
    " \n",
    "language = 'en'\n",
    "   \n",
    "myobj = gTTS(text=mytext, lang=language, slow=False, tld = 'co.uk') \n",
    "    \n",
    "myobj.save(\"readin_text.mp3\") "
   ]
  }
 ],
 "metadata": {
  "kernelspec": {
   "display_name": "Python 3.10.8 64-bit (microsoft store)",
   "language": "python",
   "name": "python3"
  },
  "language_info": {
   "codemirror_mode": {
    "name": "ipython",
    "version": 3
   },
   "file_extension": ".py",
   "mimetype": "text/x-python",
   "name": "python",
   "nbconvert_exporter": "python",
   "pygments_lexer": "ipython3",
   "version": "3.10.8"
  },
  "orig_nbformat": 4,
  "vscode": {
   "interpreter": {
    "hash": "991d345c051f04e2d9a98455c23cadf5ad410cb55ba35aa6a5cfaf14f113a7ee"
   }
  }
 },
 "nbformat": 4,
 "nbformat_minor": 2
}
