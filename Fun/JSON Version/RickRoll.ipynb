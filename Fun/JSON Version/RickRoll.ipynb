{
 "cells": [
  {
   "cell_type": "code",
   "execution_count": 8,
   "metadata": {},
   "outputs": [],
   "source": [
    "import qrcode\n",
    "img=qrcode.make(\n",
    "\"https://www.youtube.com/watch?v=dQw4w9WgXcQ&ab_channel=RickAstley\"\n",
    ")\n",
    "img.save(\"myQRcode.png\")\n",
    "img.show()"
   ]
  }
 ],
 "metadata": {
  "kernelspec": {
   "display_name": "Python 3.9.12 ('base')",
   "language": "python",
   "name": "python3"
  },
  "language_info": {
   "codemirror_mode": {
    "name": "ipython",
    "version": 3
   },
   "file_extension": ".py",
   "mimetype": "text/x-python",
   "name": "python",
   "nbconvert_exporter": "python",
   "pygments_lexer": "ipython3",
   "version": "3.9.12"
  },
  "orig_nbformat": 4,
  "vscode": {
   "interpreter": {
    "hash": "eb8df0872d785825f97f02abc13f745ca4d735819aee9073b3ef7d9eb36b0ac6"
   }
  }
 },
 "nbformat": 4,
 "nbformat_minor": 2
}
