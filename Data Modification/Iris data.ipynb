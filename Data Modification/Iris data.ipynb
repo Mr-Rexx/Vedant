{
 "cells": [
  {
   "cell_type": "code",
   "execution_count": 1,
   "metadata": {},
   "outputs": [
    {
     "name": "stderr",
     "output_type": "stream",
     "text": [
      "C:\\Users\\Vedan\\AppData\\Local\\Temp\\ipykernel_6292\\543406319.py:21: SettingWithCopyWarning: \n",
      "A value is trying to be set on a copy of a slice from a DataFrame\n",
      "\n",
      "See the caveats in the documentation: https://pandas.pydata.org/pandas-docs/stable/user_guide/indexing.html#returning-a-view-versus-a-copy\n",
      "  req_data.drop(columns='Id', inplace=True)\n"
     ]
    }
   ],
   "source": [
    " import pandas as pd\n",
    "import os\n",
    "import numpy as np\n",
    "from sklearn.model_selection import train_test_split\n",
    "from sklearn.preprocessing import StandardScaler\n",
    "import matplotlib.pyplot as plt\n",
    "\n",
    "# os.chdir (r\"C:\\Users\\Vedan\\Music\\Iris_data.csv\")\n",
    "\n",
    "data = pd.read_csv(r\"C:\\Users\\Vedan\\Music\\Iris_data.csv\", index_col=False)\n",
    "\n",
    "\n",
    "\n",
    "data.head()\n",
    "\n",
    "data['Species']=data['Species'].map({'Iris-setosa':0,'Iris-versicolor':1,'Iris-virginica':2})\n",
    "\n",
    "req_data=data[data.Species!=2]\n",
    "\n",
    "# req_data=data[data.Species==1]\n",
    "req_data.drop(columns='Id', inplace=True)\n",
    "\n",
    "features=list(set(req_data.columns)-set(['Species']))\n",
    "\n",
    "x=req_data[features]\n",
    "xx=req_data[features].values\n",
    "\n",
    "y=req_data['Species']\n",
    "yy = req_data['Species'].values\n",
    "\n",
    "\n"
   ]
  },
  {
   "cell_type": "code",
   "execution_count": null,
   "metadata": {},
   "outputs": [],
   "source": []
  }
 ],
 "metadata": {
  "kernelspec": {
   "display_name": "Python 3.10.8 64-bit (microsoft store)",
   "language": "python",
   "name": "python3"
  },
  "language_info": {
   "codemirror_mode": {
    "name": "ipython",
    "version": 3
   },
   "file_extension": ".py",
   "mimetype": "text/x-python",
   "name": "python",
   "nbconvert_exporter": "python",
   "pygments_lexer": "ipython3",
   "version": "3.10.8"
  },
  "orig_nbformat": 4,
  "vscode": {
   "interpreter": {
    "hash": "991d345c051f04e2d9a98455c23cadf5ad410cb55ba35aa6a5cfaf14f113a7ee"
   }
  }
 },
 "nbformat": 4,
 "nbformat_minor": 2
}
